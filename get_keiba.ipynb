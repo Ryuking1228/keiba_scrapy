{
 "cells": [
  {
   "cell_type": "code",
   "execution_count": 207,
   "metadata": {},
   "outputs": [],
   "source": [
    "\n",
    "# 必要なライブラリのインポート\n",
    "import time\n",
    "from selenium import webdriver\n",
    "import requests\n",
    "from bs4 import BeautifulSoup\n",
    "\n",
    "driver_path = \"/Users/postkershaw/Downloads/chromedriver_mac/chromedriver\"\n",
    "\n",
    "# Chromeブラウザを起動する\n",
    "driver = webdriver.Chrome(executable_path=driver_path)\n",
    "\n",
    "# Googleのサイトを開く\n",
    "driver.get(\"https://db.netkeiba.com/?pid=horse_top\")"
   ]
  },
  {
   "cell_type": "code",
   "execution_count": 208,
   "metadata": {},
   "outputs": [],
   "source": [
    "#Click 現役馬\n",
    "button = driver.find_element_by_xpath('//*[@id=\"check_01\"]')\n",
    "button.click()\n",
    "\n",
    "time.sleep(3)\n",
    "\n",
    "#Click \n",
    "button = driver.find_element_by_xpath('//*[@id=\"db_search_form\"]/form/input[3]')\n",
    "button.click()"
   ]
  },
  {
   "cell_type": "code",
   "execution_count": 209,
   "metadata": {},
   "outputs": [],
   "source": [
    "html = driver.page_source.encode('utf-8')\n",
    "soup = BeautifulSoup(html, 'html.parser')\n",
    "\n",
    "commands = {'#contents_liquid > div > form > table > tbody > tr > td.bml.txt_l > a'}\n"
   ]
  },
  {
   "cell_type": "code",
   "execution_count": 210,
   "metadata": {},
   "outputs": [],
   "source": [
    "import re\n",
    "import csv\n",
    "\n",
    "name = soup.select('#contents_liquid > div > form > table > tbody > tr > td.bml.txt_l > a')\n",
    "\n",
    "with open(\"name.csv\", \"a\", newline=\"\") as f:\n",
    "    writer = csv.writer(f)\n",
    "    for i in range(20):\n",
    "        check = str(name[i])\n",
    "        check = re.findall('title=\"(.*)\"', check)\n",
    "        writer.writerow(check)\n",
    "    \n",
    "\n",
    "gender = soup.select('#contents_liquid > div > form > table > tbody > tr > td.txt_c')\n",
    "\n",
    "with open(\"gen_born.csv\", \"a\", newline=\"\") as f:\n",
    "    writer = csv.writer(f)\n",
    "    for i in range(40):\n",
    "        gender_check = str(gender[i])\n",
    "        check = re.findall('>(.*)<', gender_check)\n",
    "        writer.writerow(check)\n",
    "    \n",
    "\n",
    "others = soup.select('#contents_liquid > div > form > table > tbody > tr > td.txt_l')\n",
    "\n",
    "with open(\"others.csv\", \"a\", newline=\"\") as f:\n",
    "    writer = csv.writer(f)\n",
    "    for i in range(120):\n",
    "        others_check = str(others[i])\n",
    "        check = re.findall('>(.*)<', others_check)\n",
    "        writer.writerow(check)\n",
    "    "
   ]
  },
  {
   "cell_type": "code",
   "execution_count": null,
   "metadata": {},
   "outputs": [],
   "source": []
  },
  {
   "cell_type": "code",
   "execution_count": null,
   "metadata": {},
   "outputs": [],
   "source": []
  }
 ],
 "metadata": {
  "kernelspec": {
   "display_name": "base",
   "language": "python",
   "name": "python3"
  },
  "language_info": {
   "codemirror_mode": {
    "name": "ipython",
    "version": 3
   },
   "file_extension": ".py",
   "mimetype": "text/x-python",
   "name": "python",
   "nbconvert_exporter": "python",
   "pygments_lexer": "ipython3",
   "version": "3.8.5"
  },
  "orig_nbformat": 4,
  "vscode": {
   "interpreter": {
    "hash": "99d9f272b53880e4215cc76332dba7bba8530a59f9cee24b653928fddfe00d1a"
   }
  }
 },
 "nbformat": 4,
 "nbformat_minor": 2
}
