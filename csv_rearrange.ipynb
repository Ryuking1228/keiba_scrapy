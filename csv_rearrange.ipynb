{
 "cells": [
  {
   "cell_type": "code",
   "execution_count": 76,
   "metadata": {},
   "outputs": [],
   "source": [
    "import pandas as pd\n",
    "import re\n",
    "\n",
    "name = pd.read_csv('name.csv', header=None)\n",
    "gen_born = pd.read_csv('gen_born.csv', header=None)\n",
    "others = pd.read_csv('others.csv', header=None)\n",
    "\n",
    "gen = gen_born[::2].reset_index(drop=True)\n",
    "born = gen_born[1::2]\n",
    "\n",
    "new_born = pd.DataFrame()\n",
    "for i in born[0]:\n",
    "    born = re.findall('>(.*)<', i)\n",
    "    born = pd.DataFrame(born)\n",
    "    new_born = new_born.append(born)\n",
    "\n",
    "newborn = new_born.reset_index(drop=True)\n",
    "uma_house = others[1::7].reset_index(drop=True)\n",
    "father = others[2::7].reset_index(drop=True)\n",
    "mother = others[3::7].reset_index(drop=True)\n",
    "mother_father = others[4::7].reset_index(drop=True)\n",
    "uma_owner = others[5::7].reset_index(drop=True)\n",
    "producer = others[6::7].reset_index(drop=True)\n",
    "\n",
    "df = pd.concat([name,gen,newborn,uma_house,father,mother,mother_father,uma_owner,producer],axis='columns',join='inner')\n",
    "\n",
    "df.to_csv('result.csv')\n"
   ]
  }
 ],
 "metadata": {
  "kernelspec": {
   "display_name": "base",
   "language": "python",
   "name": "python3"
  },
  "language_info": {
   "codemirror_mode": {
    "name": "ipython",
    "version": 3
   },
   "file_extension": ".py",
   "mimetype": "text/x-python",
   "name": "python",
   "nbconvert_exporter": "python",
   "pygments_lexer": "ipython3",
   "version": "3.8.5"
  },
  "orig_nbformat": 4,
  "vscode": {
   "interpreter": {
    "hash": "99d9f272b53880e4215cc76332dba7bba8530a59f9cee24b653928fddfe00d1a"
   }
  }
 },
 "nbformat": 4,
 "nbformat_minor": 2
}
